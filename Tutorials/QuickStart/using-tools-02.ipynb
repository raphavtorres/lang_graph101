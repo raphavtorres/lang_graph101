{
 "cells": [
  {
   "cell_type": "code",
   "execution_count": null,
   "metadata": {},
   "outputs": [],
   "source": [
    "%%capture --no-stderr\n",
    "%pip install -U tavily-python\n",
    "%pip install -U langchain_community"
   ]
  },
  {
   "cell_type": "code",
   "execution_count": null,
   "metadata": {},
   "outputs": [],
   "source": [
    "from dotenv import load_dotenv, find_dotenv\n",
    "\n",
    "_ = load_dotenv(find_dotenv())"
   ]
  },
  {
   "cell_type": "code",
   "execution_count": null,
   "metadata": {},
   "outputs": [],
   "source": [
    "from langchain_community.tools.tavily_search import TavilySearchResults\n",
    "\n",
    "tool = TavilySearchResults(max_results=2)\n",
    "tools = [tool]\n",
    "tool.invoke(\"What's a 'node' in LangGraph?\")"
   ]
  },
  {
   "cell_type": "code",
   "execution_count": 4,
   "metadata": {},
   "outputs": [],
   "source": [
    "from typing import Annotated\n",
    "from typing_extensions import TypedDict\n",
    "\n",
    "from langgraph.graph import StateGraph, START, END\n",
    "from langgraph.graph.message import add_messages\n",
    "\n",
    "\n",
    "class State(TypedDict):\n",
    "  messages: Annotated[list, add_messages]\n",
    "  \n",
    "  \n",
    "graph_builder = StateGraph(State)"
   ]
  },
  {
   "cell_type": "code",
   "execution_count": 5,
   "metadata": {},
   "outputs": [],
   "source": [
    "from langchain_openai import ChatOpenAI\n",
    "\n",
    "llm = ChatOpenAI(\n",
    "    model=\"gpt-4o-mini\",\n",
    "    temperature=0,\n",
    ")\n",
    "\n",
    "llm_with_tools = llm.bind_tools(tools=tools)"
   ]
  },
  {
   "cell_type": "code",
   "execution_count": 7,
   "metadata": {},
   "outputs": [],
   "source": [
    "def chatbot(state: State):\n",
    "    return {\"messages\": [llm_with_tools.invoke(state[\"messages\"])]}"
   ]
  },
  {
   "cell_type": "code",
   "execution_count": 8,
   "metadata": {},
   "outputs": [],
   "source": [
    "graph_builder.add_node(\"chatbot\", chatbot)"
   ]
  },
  {
   "cell_type": "markdown",
   "metadata": {},
   "source": [
    "# Tool Node"
   ]
  },
  {
   "cell_type": "code",
   "execution_count": 9,
   "metadata": {},
   "outputs": [],
   "source": [
    "import json\n",
    "\n",
    "from langchain_core.messages import ToolMessage\n",
    "\n",
    "\n",
    "class BasicToolNode:\n",
    "    \"\"\"A node that runs the tools requested in the last AIMessage.\"\"\"\n",
    "\n",
    "    def __init__(self, tools: list) -> None:\n",
    "        self.tools_by_name = {tool.name: tool for tool in tools}\n",
    "\n",
    "    # when node called get last message\n",
    "    # for each tool called in message get it by name, invoke passing it's args\n",
    "    # finally write to the state passing the outputs to messages as \"ToolMessage\" type\n",
    "    def __call__(self, inputs: dict):\n",
    "        if messages := inputs.get(\"messages\", []):\n",
    "            message = messages[-1]\n",
    "        else:\n",
    "            raise ValueError(\"No message found in input\")\n",
    "        outputs = []\n",
    "        for tool_call in message.tool_calls:\n",
    "            tool_result = self.tools_by_name[tool_call[\"name\"]].invoke(\n",
    "                tool_call[\"args\"]\n",
    "            )\n",
    "            outputs.append(\n",
    "                ToolMessage(\n",
    "                    content=json.dumps(tool_result),\n",
    "                    name=tool_call[\"name\"],\n",
    "                    tool_call_id=tool_call[\"id\"],\n",
    "                )\n",
    "            )\n",
    "        return {\"messages\": outputs}"
   ]
  },
  {
   "cell_type": "code",
   "execution_count": 10,
   "metadata": {},
   "outputs": [],
   "source": [
    "tool_node = BasicToolNode(tools=[tool])\n",
    "graph_builder.add_node(\"tools\", tool_node)"
   ]
  },
  {
   "cell_type": "markdown",
   "metadata": {},
   "source": [
    "# Tool route\n",
    "\n",
    "This route_tool function, basically does what `tools_condition` does\n",
    "```python\n",
    "from from langgraph.prebuilt import ToolNode, tools_condition\n",
    "```"
   ]
  },
  {
   "cell_type": "code",
   "execution_count": 13,
   "metadata": {},
   "outputs": [],
   "source": [
    "from typing import Literal\n",
    "\n",
    "\n",
    "def route_tools(\n",
    "    state: State,\n",
    ") -> Literal[\"tools\", \"__end__\"]:\n",
    "    \"\"\"\n",
    "    Use in the conditional_edge to route to the ToolNode if the last message\n",
    "    has tool calls. Otherwise, route to the end.\n",
    "    \"\"\"\n",
    "    if isinstance(state, list):\n",
    "        ai_message = state[-1]\n",
    "    elif messages := state.get(\"messages\", []):\n",
    "        ai_message = messages[-1]\n",
    "    else:\n",
    "        raise ValueError(f\"No messages found in input state to tool_edge: {state}\")\n",
    "    if hasattr(ai_message, \"tool_calls\") and len(ai_message.tool_calls) > 0:\n",
    "        return \"tools\"\n",
    "    return \"__end__\""
   ]
  },
  {
   "cell_type": "code",
   "execution_count": 14,
   "metadata": {},
   "outputs": [],
   "source": [
    "# The `tools_condition` function returns \"tools\" if the chatbot asks to use a tool, and \"__end__\" if\n",
    "# it is fine directly responding. This conditional routing defines the main agent loop.\n",
    "graph_builder.add_conditional_edges(\n",
    "    \"chatbot\",\n",
    "    route_tools,\n",
    "    # The following dictionary lets you tell the graph to interpret the condition's outputs as a specific node\n",
    "    # It defaults to the identity function, but if you\n",
    "    # want to use a node named something else apart from \"tools\",\n",
    "    # You can update the value of the dictionary to something else\n",
    "    # e.g., \"tools\": \"my_tools\"\n",
    "    {\"tools\": \"tools\", \"__end__\": \"__end__\"},\n",
    ")"
   ]
  },
  {
   "cell_type": "code",
   "execution_count": 15,
   "metadata": {},
   "outputs": [],
   "source": [
    "# Any time a tool is called, we return to the chatbot to decide the next step\n",
    "graph_builder.add_edge(\"tools\", \"chatbot\")\n",
    "graph_builder.add_edge(START, \"chatbot\")\n",
    "graph = graph_builder.compile()"
   ]
  },
  {
   "cell_type": "code",
   "execution_count": 16,
   "metadata": {},
   "outputs": [
    {
     "data": {
      "image/jpeg": "[encoded data removed]",
      "text/plain": [
       "<IPython.core.display.Image object>"
      ]
     },
     "metadata": {},
     "output_type": "display_data"
    }
   ],
   "source": [
    "\n",
    "from IPython.display import Image, display\n",
    "\n",
    "try:\n",
    "    display(Image(graph.get_graph().draw_mermaid_png()))\n",
    "except Exception:\n",
    "    # This requires some extra dependencies and is optional\n",
    "    pass"
   ]
  },
  {
   "cell_type": "code",
   "execution_count": 17,
   "metadata": {},
   "outputs": [
    {
     "name": "stdout",
     "output_type": "stream",
     "text": [
      "Assistant: \n",
      "Assistant: [{\"url\": \"https://www.bbc.com/news/world-latin-america-64138739\", \"content\": \"Beta Terms By using the Beta Site, you agree that such use is at your own risk and you know that the Beta Site may include known or unknown bugs or errors, that we have no obligation to make this Beta Site available with or without charge for any period of time, nor to make it available at all, and that nothing in these Beta Terms or your use of the Beta Site creates any employment relationship between you and us. First rioter tried for Brazil capital unrest gets 17 years\\nBrazil tightens gun control amid surge in ownership\\nAmazon deforestation down by a third in 2023 - Brazil\\nFifa investigating Brazil-Argentina disorder\\nFifa opens disciplinary proceedings after fighting delayed the start of a World Cup qualifying match between Brazil and Argentina.\\n Shortly after being sworn in, Lula sought to instil a sense of hope in the people of Brazil and promised to \\\"rebuild the nation and make a Brazil of all, for all\\\".\\n Lula sworn in as Brazil president as predecessor Bolsonaro flies to US\\nLuiz Inacio Lula da Silva has been sworn in as the new president of Brazil - the third time he has held the country's highest office.\\n Lula and incoming Vice-President Geraldo Alckmin paraded through the city on an open-top convertible before proceeding to the Congress building - where the swearing-in occurred at the start of the formal inauguration ceremony.\\n\"}, {\"url\": \"https://en.wikipedia.org/wiki/Luiz_In\\u00e1cio_Lula_da_Silva\", \"content\": \"Salman also discussed Saudi Arabia's entry into BRICS in January 2024.[258]\\nLula invited Salman to visit Brazil in 2024.[258][260][259]\\nIn February 2024, Saudi Ambassador to Brazil Faisal Ghulam participated in a reception held by the ambassadors of Arab countries and Islamic countries in honor of Lula, and on behalf of the ambassadors of the Arab and Islamic countries, Ghulam delivered a speech in which he reviewed the developing relations between the Arab and Islamic countries and Brazil.[261]\\nLula condemned the Hamas attack on Israel carried out on 7 October 2023.[262] The state-controlled Brazilian oil company Petrobras studied the possibility of drilling for oil off of Cuba, while the Odebrecht construction firm headed a revamp of the Cuban port of Mariel into the island's main commercial port.[75][76] Brazil's state-run Brazilian Development Bank gave $300 million to Odebrecht to build new roads, rail lines, wharves, and warehouses at Mariel.[75] Brazil also offered Cuba up to $1 billion in credit lines to pay for Brazilian goods and services.[76]\\nIn 2003, Lula condemned the U.S.-led invasion of Iraq, saying that the United States had no right \\\"to decide unilaterally what is good and what is bad for the world\\\".[77] The film was a commercial and critical failure.[356][357] Critics charged that it was election propaganda, fostering a cult of personality.[358][359][360]\\nThe Netflix Brazilian series The Mechanism deals with Operation Car Wash and features a character that alludes to Lula, Jo\\u00e3o Higino.[361]\\nThe 2019 Brazilian documentary The Edge of Democracy, written and directed by Petra Costa, chronicled the rise and fall of Lula and Dilma Rousseff, and the socio-political upheaval in Brazil during the period.[362]\\nReferences[edit]\\nFurther reading[edit]\\nExternal links[edit] He also denounced the inclusion of Cuba on the US list of state sponsors of terrorism.[229][230]\\nIn March 2023, Lula's administration allowed two Iranian Navy warships, forward base ship IRIS Makran and frigate IRIS Dena, to dock in Rio de Janeiro.[231][232][233] U.S. Ambassador to Brazil Elizabeth Bagley said that in the past the warships had facilitated terrorist activities, and US Senator Ted Cruz said that \\\"the docking of Iranian warships in Brazil is a dangerous development and a direct threat to the safety and security of Americans. The Iranian government declined his offer.[79][80] Mina Ahadi, an Iranian Communist politician, welcomed Lula's offer, but reiterated a call for an end to stoning altogether and requested a cessation of recognition and support for the Iranian government.[81][82][83][84] Jackson Diehl, deputy editorial page editor of The Washington Post, called Lula the \\\"best friend of tyrants in the democratic world,\\\" and criticised his actions.[79] Shirin Ebadi, Iranian human rights activist and Nobel Peace Prize laureate called Lula's comments a \\\"powerful message to the Islamic Republic\\\".[85]\\nIn 2009, Lula warmly hosted Iranian president Ahmadinejad, who made a controversial visit to Iran.[86][87]\\n\"}]\n",
      "Assistant: \n",
      "Assistant: [{\"url\": \"https://en.wikipedia.org/wiki/Luiz_In\\u00e1cio_Lula_da_Silva\", \"content\": \"Salman also discussed Saudi Arabia's entry into BRICS in January 2024.[258]\\nLula invited Salman to visit Brazil in 2024.[258][260][259]\\nIn February 2024, Saudi Ambassador to Brazil Faisal Ghulam participated in a reception held by the ambassadors of Arab countries and Islamic countries in honor of Lula, and on behalf of the ambassadors of the Arab and Islamic countries, Ghulam delivered a speech in which he reviewed the developing relations between the Arab and Islamic countries and Brazil.[261]\\nLula condemned the Hamas attack on Israel carried out on 7 October 2023.[262] The state-controlled Brazilian oil company Petrobras studied the possibility of drilling for oil off of Cuba, while the Odebrecht construction firm headed a revamp of the Cuban port of Mariel into the island's main commercial port.[75][76] Brazil's state-run Brazilian Development Bank gave $300 million to Odebrecht to build new roads, rail lines, wharves, and warehouses at Mariel.[75] Brazil also offered Cuba up to $1 billion in credit lines to pay for Brazilian goods and services.[76]\\nIn 2003, Lula condemned the U.S.-led invasion of Iraq, saying that the United States had no right \\\"to decide unilaterally what is good and what is bad for the world\\\".[77] The film was a commercial and critical failure.[356][357] Critics charged that it was election propaganda, fostering a cult of personality.[358][359][360]\\nThe Netflix Brazilian series The Mechanism deals with Operation Car Wash and features a character that alludes to Lula, Jo\\u00e3o Higino.[361]\\nThe 2019 Brazilian documentary The Edge of Democracy, written and directed by Petra Costa, chronicled the rise and fall of Lula and Dilma Rousseff, and the socio-political upheaval in Brazil during the period.[362]\\nReferences[edit]\\nFurther reading[edit]\\nExternal links[edit] He also denounced the inclusion of Cuba on the US list of state sponsors of terrorism.[229][230]\\nIn March 2023, Lula's administration allowed two Iranian Navy warships, forward base ship IRIS Makran and frigate IRIS Dena, to dock in Rio de Janeiro.[231][232][233] U.S. Ambassador to Brazil Elizabeth Bagley said that in the past the warships had facilitated terrorist activities, and US Senator Ted Cruz said that \\\"the docking of Iranian warships in Brazil is a dangerous development and a direct threat to the safety and security of Americans. The Iranian government declined his offer.[79][80] Mina Ahadi, an Iranian Communist politician, welcomed Lula's offer, but reiterated a call for an end to stoning altogether and requested a cessation of recognition and support for the Iranian government.[81][82][83][84] Jackson Diehl, deputy editorial page editor of The Washington Post, called Lula the \\\"best friend of tyrants in the democratic world,\\\" and criticised his actions.[79] Shirin Ebadi, Iranian human rights activist and Nobel Peace Prize laureate called Lula's comments a \\\"powerful message to the Islamic Republic\\\".[85]\\nIn 2009, Lula warmly hosted Iranian president Ahmadinejad, who made a controversial visit to Iran.[86][87]\\n\"}, {\"url\": \"https://www.cnn.com/2023/01/01/americas/brazil-lula-da-silva-inauguration-intl/index.html\", \"content\": \"Opinion: What 2022's elections taught me about humanity, politics and 'magic sauce'\\nThe suspect, identified as 54-year-old gas station manager George Washington de Oliveira Sousa, is a Bolsonaro supporter and told police in a statement, seen by CNN, that he intended to \\u201ccreate chaos\\u201d so as to prevent Lula from taking office again in January.\\nMoraes\\u2019 ban came into force as thousands of Bolsonaro supporters have gathered at military barracks across the country in protest of the election result, asking the army to step in as they claim, with no evidence, that the election was stolen.\\n The new Brazilian president promised to address the inequality inflicted on minorities in the country by creating \\u201cthe ministry of racial equality promotion to expand the affirmative action policy in universities and public service, as well as resuming policies for Black and brown people in the health, education and culture areas.\\u201d\\n \\u201cI promise to maintain, defend and fulfill the constitution, observe the laws, promote the general good of the Brazilian people, support the unity, integrity and independence of Brazil,\\u201d Lula said.\\n CNN values your feedback\\nLula da Silva sworn in as Brazil\\u2019s president amid fears of violence from Bolsonaro supporters\\nLuiz In\\u00e1cio \\u201cLula\\u201d da Silva was sworn in as Brazil\\u2019s president for the third time on Sunday, as threats of violence loomed from supporters of his predecessor, Jair Bolsonaro.\\n \\u201cLeaders that should reassure and unite the nation around a project for the country allowed that silence to create an atmosphere of chaos and social division,\\u201d said Mourao, who added that the armed forces had to pay the bill.\"}]\n",
      "Assistant: The current president of Brazil is **Luiz Inácio Lula da Silva**, who was sworn in for the third time on January 1, 2023. He was born on October 27, 1945, which makes him **77 years old** as of now.\n",
      "Goodbye!\n"
     ]
    }
   ],
   "source": [
    "from langchain_core.messages import BaseMessage\n",
    "\n",
    "while True:\n",
    "    user_input = input(\"User: \")\n",
    "    if user_input.lower() in [\"quit\", \"exit\", \"q\"]:\n",
    "        print(\"Goodbye!\")\n",
    "        break\n",
    "    for event in graph.stream({\"messages\": [(\"user\", user_input)]}):\n",
    "        for value in event.values():\n",
    "            if isinstance(value[\"messages\"][-1], BaseMessage):\n",
    "                print(\"Assistant:\", value[\"messages\"][-1].content)"
   ]
  },
  {
   "cell_type": "code",
   "execution_count": null,
   "metadata": {},
   "outputs": [],
   "source": []
  }
 ],
 "metadata": {
  "kernelspec": {
   "display_name": ".venv",
   "language": "python",
   "name": "python3"
  },
  "language_info": {
   "codemirror_mode": {
    "name": "ipython",
    "version": 3
   },
   "file_extension": ".py",
   "mimetype": "text/x-python",
   "name": "python",
   "nbconvert_exporter": "python",
   "pygments_lexer": "ipython3",
   "version": "3.12.4"
  }
 },
 "nbformat": 4,
 "nbformat_minor": 2
}
